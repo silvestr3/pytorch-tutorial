{
  "cells": [
    {
      "cell_type": "markdown",
      "metadata": {
        "id": "view-in-github",
        "colab_type": "text"
      },
      "source": [
        "<a href=\"https://colab.research.google.com/github/silvestr3/pytorch-tutorial/blob/main/Pytorch_Tutorial.ipynb\" target=\"_parent\"><img src=\"https://colab.research.google.com/assets/colab-badge.svg\" alt=\"Open In Colab\"/></a>"
      ]
    },
    {
      "cell_type": "markdown",
      "metadata": {
        "id": "pWlVOFio0g7d"
      },
      "source": [
        "# Tensor\n",
        "* In pythorch, a tensor is a torch;\n",
        "* A multi-dimensional matrix containing elements of a single data type\n",
        "* Default type is float32"
      ]
    },
    {
      "cell_type": "code",
      "execution_count": 64,
      "metadata": {
        "colab": {
          "base_uri": "https://localhost:8080/"
        },
        "id": "g7iyQr7K1HeV",
        "outputId": "ff2788f7-8e3b-4972-a714-b1efcd46d8d4"
      },
      "outputs": [
        {
          "output_type": "execute_result",
          "data": {
            "text/plain": [
              "tensor([[0.3904, 0.6009, 0.2566, 0.7936],\n",
              "        [0.9408, 0.1332, 0.9346, 0.5936],\n",
              "        [0.8694, 0.5677, 0.7411, 0.4294]])"
            ]
          },
          "metadata": {},
          "execution_count": 64
        }
      ],
      "source": [
        "import torch\n",
        "\n",
        "x = torch.rand(3,4)\n",
        "x"
      ]
    },
    {
      "cell_type": "markdown",
      "metadata": {
        "id": "k5E7R20Rcer6"
      },
      "source": [
        "### Creating tensors\n",
        "Tensors can be created with `torch.Tensor()`\n"
      ]
    },
    {
      "cell_type": "code",
      "execution_count": 65,
      "metadata": {
        "colab": {
          "base_uri": "https://localhost:8080/"
        },
        "id": "IvFBRaxwcn5m",
        "outputId": "06c7f19b-5c9c-493b-d943-c044b1912f2e"
      },
      "outputs": [
        {
          "output_type": "execute_result",
          "data": {
            "text/plain": [
              "tensor(7)"
            ]
          },
          "metadata": {},
          "execution_count": 65
        }
      ],
      "source": [
        "#scalar\n",
        "scalar = torch.tensor(7)\n",
        "scalar"
      ]
    },
    {
      "cell_type": "markdown",
      "metadata": {
        "id": "OLPh_hCY4tdW"
      },
      "source": [
        "## Tensor operations\n",
        "\n",
        "### Reshaping\n",
        "\n",
        "Tensors can be reshaped, as long as all values from the first tensor can fit in the new dimensions of the new tensor"
      ]
    },
    {
      "cell_type": "code",
      "execution_count": 66,
      "metadata": {
        "colab": {
          "base_uri": "https://localhost:8080/"
        },
        "id": "JqLrs-ww5ARc",
        "outputId": "27b4dd69-bef3-42db-87a4-d4fc66162a0c"
      },
      "outputs": [
        {
          "output_type": "execute_result",
          "data": {
            "text/plain": [
              "tensor([0.8854, 0.5739, 0.2666, 0.6274, 0.2696, 0.4414, 0.2969, 0.8317, 0.1053,\n",
              "        0.2695])"
            ]
          },
          "metadata": {},
          "execution_count": 66
        }
      ],
      "source": [
        "oned = torch.rand(10)\n",
        "oned"
      ]
    },
    {
      "cell_type": "code",
      "execution_count": 67,
      "metadata": {
        "colab": {
          "base_uri": "https://localhost:8080/"
        },
        "id": "Kv0BGJvT5FQ_",
        "outputId": "ff04bfe5-11dc-4181-b301-be7c266ecd52"
      },
      "outputs": [
        {
          "output_type": "execute_result",
          "data": {
            "text/plain": [
              "tensor([[0.8854, 0.5739, 0.2666, 0.6274, 0.2696],\n",
              "        [0.4414, 0.2969, 0.8317, 0.1053, 0.2695]])"
            ]
          },
          "metadata": {},
          "execution_count": 67
        }
      ],
      "source": [
        "twod = oned.reshape(2, 5)\n",
        "twod"
      ]
    },
    {
      "cell_type": "markdown",
      "metadata": {
        "id": "WVMMSUaB6Qt8"
      },
      "source": [
        "If the number of elements is unknown it is possible to reshape to the desired number of lines or columns, and passing ```-1``` to the other field"
      ]
    },
    {
      "cell_type": "code",
      "execution_count": 68,
      "metadata": {
        "colab": {
          "base_uri": "https://localhost:8080/"
        },
        "id": "jmW1Z3Tc6haU",
        "outputId": "58420208-b297-46ae-a855-1d7d22c3acae"
      },
      "outputs": [
        {
          "output_type": "execute_result",
          "data": {
            "text/plain": [
              "tensor([[0.8854, 0.5739, 0.2666, 0.6274, 0.2696],\n",
              "        [0.4414, 0.2969, 0.8317, 0.1053, 0.2695]])"
            ]
          },
          "metadata": {},
          "execution_count": 68
        }
      ],
      "source": [
        "twolines = oned.reshape(2, -1)\n",
        "twolines"
      ]
    },
    {
      "cell_type": "code",
      "execution_count": 69,
      "metadata": {
        "colab": {
          "base_uri": "https://localhost:8080/"
        },
        "id": "aGD9Q69f6qSv",
        "outputId": "e1a4f630-791c-41ea-97e5-9e2666581ee4"
      },
      "outputs": [
        {
          "output_type": "execute_result",
          "data": {
            "text/plain": [
              "tensor([[8.8544e-01, 2.2200e+02, 2.6658e-01, 6.2745e-01, 2.6963e-01],\n",
              "        [4.4136e-01, 2.9692e-01, 8.3169e-01, 1.0531e-01, 2.6949e-01]])"
            ]
          },
          "metadata": {},
          "execution_count": 69
        }
      ],
      "source": [
        "oned[1] = 222\n",
        "oned\n",
        "twod"
      ]
    },
    {
      "cell_type": "markdown",
      "metadata": {
        "id": "w-E7oP5DVoa_"
      },
      "source": [
        "# PyTorch Workflow\n",
        "\n",
        "1. Prepare and load data\n",
        "2. build model\n",
        "3. Train the model with the data\n",
        "4. making predictions and evaluating a model (inference)\n",
        "5. saving and loading a model"
      ]
    },
    {
      "cell_type": "code",
      "execution_count": 70,
      "metadata": {
        "colab": {
          "base_uri": "https://localhost:8080/",
          "height": 35
        },
        "id": "XdYBHV-UcRMQ",
        "outputId": "cb1621df-3f0d-4c3c-b5a4-9f98ff6137f1"
      },
      "outputs": [
        {
          "output_type": "execute_result",
          "data": {
            "text/plain": [
              "'2.2.1+cu121'"
            ],
            "application/vnd.google.colaboratory.intrinsic+json": {
              "type": "string"
            }
          },
          "metadata": {},
          "execution_count": 70
        }
      ],
      "source": [
        "import torch\n",
        "from torch import nn\n",
        "import matplotlib.pyplot as plt\n",
        "\n",
        "# Cheeck PyTorch version\n",
        "torch.__version__"
      ]
    },
    {
      "cell_type": "markdown",
      "metadata": {
        "id": "_4RJYGd8PYu5"
      },
      "source": [
        "## Prepare and load data\n",
        "\n",
        "Data can be almost anything in machine learning\n",
        "\n",
        "* Excel spreadsheet\n",
        "* Images\n",
        "* Audio\n",
        "* Text\n",
        "\n",
        "Machine learning consists of two main parts:\n",
        "1. Encode data in a numeric representation\n",
        "2. Build a model that can learn patterns in this numerical representation\n",
        "\n",
        "To showcase this, let's create some *known* data using a linear regression formula\n",
        "\n",
        "We'll use a line regressiona forumula to make a straight line with *known* **parameters**"
      ]
    },
    {
      "cell_type": "code",
      "execution_count": 71,
      "metadata": {
        "colab": {
          "base_uri": "https://localhost:8080/"
        },
        "id": "mTWVvypceiPI",
        "outputId": "c32baf66-708a-40cc-b1bc-7fb92ab4609a"
      },
      "outputs": [
        {
          "output_type": "execute_result",
          "data": {
            "text/plain": [
              "(tensor([[0.0000],\n",
              "         [0.0200],\n",
              "         [0.0400],\n",
              "         [0.0600],\n",
              "         [0.0800],\n",
              "         [0.1000],\n",
              "         [0.1200],\n",
              "         [0.1400],\n",
              "         [0.1600],\n",
              "         [0.1800]]),\n",
              " tensor([[0.3000],\n",
              "         [0.3140],\n",
              "         [0.3280],\n",
              "         [0.3420],\n",
              "         [0.3560],\n",
              "         [0.3700],\n",
              "         [0.3840],\n",
              "         [0.3980],\n",
              "         [0.4120],\n",
              "         [0.4260]]))"
            ]
          },
          "metadata": {},
          "execution_count": 71
        }
      ],
      "source": [
        "# create known parameters\n",
        "weight = 0.7\n",
        "bias = 0.3\n",
        "\n",
        "#create data\n",
        "start = 0\n",
        "end = 2\n",
        "step = 0.02\n",
        "\n",
        "X = torch.arange(start, end, step).unsqueeze(dim=1)\n",
        "y = weight * X + bias\n",
        "\n",
        "X[:10], y[:10]"
      ]
    },
    {
      "cell_type": "markdown",
      "metadata": {
        "id": "e91eWM4rT9tb"
      },
      "source": [
        "Splitting data into training and test sets\n",
        "\n",
        "Let's create a training and test set with our data:"
      ]
    },
    {
      "cell_type": "code",
      "execution_count": 72,
      "metadata": {
        "id": "4PJf7IZkRlJH"
      },
      "outputs": [],
      "source": [
        "# creating a training sample with 80% of the original data\n",
        "train_split = int(0.8 * len(X))\n",
        "X_train, y_train = X[:train_split], y[:train_split]\n",
        "X_test, y_test = X[train_split:], y[train_split:]"
      ]
    },
    {
      "cell_type": "markdown",
      "metadata": {
        "id": "affw7cXhVq-o"
      },
      "source": [
        "Its possible to visualize the data using Matplotlib"
      ]
    },
    {
      "cell_type": "code",
      "execution_count": 73,
      "metadata": {
        "colab": {
          "base_uri": "https://localhost:8080/",
          "height": 599
        },
        "id": "SewvD6zkUh9T",
        "outputId": "19f055b0-8c48-4f7b-ab92-1debce8b6fe0"
      },
      "outputs": [
        {
          "output_type": "display_data",
          "data": {
            "text/plain": [
              "<Figure size 1000x700 with 1 Axes>"
            ],
            "image/png": "[encoded data removed]"
          },
          "metadata": {}
        }
      ],
      "source": [
        "def plot_predictions(train_data=X_train, train_labels=y_train, test_data=X_test,test_labels=y_test, predictions=None):\n",
        "  \"\"\"\n",
        "  Plots training data, test data and compare predictions\n",
        "  \"\"\"\n",
        "\n",
        "  # plot train data in blue\n",
        "  plt.figure(figsize=(10,7))\n",
        "  plt.scatter(train_data, train_labels, c=\"b\", s=4, label=\"Training data\")\n",
        "\n",
        "  # plot test data in green\n",
        "  plt.scatter(test_data, test_labels, c=\"g\", s=4, label=\"Testing data\")\n",
        "\n",
        "  if predictions is not None:\n",
        "    plt.scatter(test_data, predictions, c=\"r\", s=4, label=\"Predictions\")\n",
        "\n",
        "  plt.legend(prop={\"size\": 14});\n",
        "\n",
        "plot_predictions();"
      ]
    },
    {
      "cell_type": "markdown",
      "metadata": {
        "id": "WgScF9HLYbvw"
      },
      "source": [
        "## Building a PyTorch model\n",
        "\n",
        "* Start with random values of weight and values\n",
        "* Look at training data and adjust the random values to better represent the ideal values (the weight and bias used to create the data)\n",
        "\n",
        "1. Gradiend descent algorithm\n",
        "2. Backpropagation algorithm"
      ]
    },
    {
      "cell_type": "code",
      "execution_count": 74,
      "metadata": {
        "id": "jbmKyUStWo2l"
      },
      "outputs": [],
      "source": [
        "# create a linear regression model class\n",
        "\n",
        "class LinearRegressionModel(nn.Module):\n",
        "  def __init__(self, ):\n",
        "    super().__init__()\n",
        "    self.weights = nn.Parameter(torch.randn(1,\n",
        "                                            requires_grad=True,\n",
        "                                            dtype=torch.float))\n",
        "\n",
        "\n",
        "    self.bias = nn.Parameter(torch.randn(1, requires_grad=True, dtype=torch.float))\n",
        "\n",
        "  # Forward method to define the computation in the model\n",
        "  def forward(self, x: torch.Tensor) -> torch.Tensor:\n",
        "    return self.weights * x + self.bias  # linear regression formula"
      ]
    },
    {
      "cell_type": "markdown",
      "metadata": {
        "id": "g1qdKjQqgJv5"
      },
      "source": [
        "### PyTorch model building essentials\n",
        "\n",
        "* torch.nn - contains all of the building blocks for computational graphs (neural networks)\n",
        "* torch.nn.Parameter - what parameters the model should try and learn, often a pytorch layer from torch.nn will set these for us\n",
        "* torch.nn.Module - base class for all neural network modules. Its implementation should overrite the `forward()` method\n",
        "* forward() - method that defines what happens in the forward computations\n",
        "* torch.optim - optimizers for pytorch, to help with gradiend descent functions\n",
        "* torch.utils.data.Dataset - Represents a map between a key (label) and sample (features) pairs of data.\n",
        "* torch.utils.data.Dataloader - allows to iterate over a dataset in order to load data into the model"
      ]
    },
    {
      "cell_type": "code",
      "execution_count": 75,
      "metadata": {
        "colab": {
          "base_uri": "https://localhost:8080/"
        },
        "id": "Xx_ky83Li09t",
        "outputId": "3a23f4d8-96ac-45fa-84d9-35a1e239a9bb"
      },
      "outputs": [
        {
          "output_type": "execute_result",
          "data": {
            "text/plain": [
              "[Parameter containing:\n",
              " tensor([0.3367], requires_grad=True),\n",
              " Parameter containing:\n",
              " tensor([0.1288], requires_grad=True)]"
            ]
          },
          "metadata": {},
          "execution_count": 75
        }
      ],
      "source": [
        "# create a random seed\n",
        "torch.manual_seed(42)\n",
        "\n",
        "#create an instance of the model\n",
        "model_0 = LinearRegressionModel()\n",
        "\n",
        "#list model parameters\n",
        "list(model_0.parameters())"
      ]
    },
    {
      "cell_type": "code",
      "execution_count": 76,
      "metadata": {
        "id": "r6ygx13KcK-q",
        "colab": {
          "base_uri": "https://localhost:8080/"
        },
        "outputId": "76530c1e-b454-489d-d226-c668ffc1417a"
      },
      "outputs": [
        {
          "output_type": "execute_result",
          "data": {
            "text/plain": [
              "OrderedDict([('weights', tensor([0.3367])), ('bias', tensor([0.1288]))])"
            ]
          },
          "metadata": {},
          "execution_count": 76
        }
      ],
      "source": [
        "#list the named parameters\n",
        "model_0.state_dict()\n"
      ]
    },
    {
      "cell_type": "code",
      "source": [
        "# The goal of this model is to learn from the sampmle training data\n",
        "# to adjust its parameters values as close as possible to the values\n",
        "# that generated the training data:\n",
        "\n",
        "weight, bias"
      ],
      "metadata": {
        "colab": {
          "base_uri": "https://localhost:8080/"
        },
        "id": "7YB_LOpednGj",
        "outputId": "bf16b5b7-4511-4fa7-bb23-e265626d09c7"
      },
      "execution_count": 77,
      "outputs": [
        {
          "output_type": "execute_result",
          "data": {
            "text/plain": [
              "(0.7, 0.3)"
            ]
          },
          "metadata": {},
          "execution_count": 77
        }
      ]
    },
    {
      "cell_type": "markdown",
      "source": [
        "## Making predictions using `torch.inference_mode()`\n",
        "\n",
        "To theck the model's prediction capabilities, first let's test how well it predicts `y_test` based on `X_test` with the initial parameter values.\n",
        "\n",
        "The data passed through the model is going to run in the `forward()` method"
      ],
      "metadata": {
        "id": "g1wos704fL_x"
      }
    },
    {
      "cell_type": "code",
      "source": [
        "# The ideal model will take X_test, and output exacly y_test as its prediction\n",
        "\n",
        "X_test, y_test"
      ],
      "metadata": {
        "colab": {
          "base_uri": "https://localhost:8080/"
        },
        "id": "D00BsR0JiJbf",
        "outputId": "07230439-cff1-41ee-ac88-4a1e6d0cbbeb"
      },
      "execution_count": 78,
      "outputs": [
        {
          "output_type": "execute_result",
          "data": {
            "text/plain": [
              "(tensor([[1.6000],\n",
              "         [1.6200],\n",
              "         [1.6400],\n",
              "         [1.6600],\n",
              "         [1.6800],\n",
              "         [1.7000],\n",
              "         [1.7200],\n",
              "         [1.7400],\n",
              "         [1.7600],\n",
              "         [1.7800],\n",
              "         [1.8000],\n",
              "         [1.8200],\n",
              "         [1.8400],\n",
              "         [1.8600],\n",
              "         [1.8800],\n",
              "         [1.9000],\n",
              "         [1.9200],\n",
              "         [1.9400],\n",
              "         [1.9600],\n",
              "         [1.9800]]),\n",
              " tensor([[1.4200],\n",
              "         [1.4340],\n",
              "         [1.4480],\n",
              "         [1.4620],\n",
              "         [1.4760],\n",
              "         [1.4900],\n",
              "         [1.5040],\n",
              "         [1.5180],\n",
              "         [1.5320],\n",
              "         [1.5460],\n",
              "         [1.5600],\n",
              "         [1.5740],\n",
              "         [1.5880],\n",
              "         [1.6020],\n",
              "         [1.6160],\n",
              "         [1.6300],\n",
              "         [1.6440],\n",
              "         [1.6580],\n",
              "         [1.6720],\n",
              "         [1.6860]]))"
            ]
          },
          "metadata": {},
          "execution_count": 78
        }
      ]
    },
    {
      "cell_type": "code",
      "source": [
        "# make predictions with model\n",
        "# inference mode disables gradient tracking, because there is no need to change the parameters for now\n",
        "\n",
        "with torch.inference_mode():\n",
        "  y_predictions = model_0(X_test)\n",
        "\n",
        "y_predictions"
      ],
      "metadata": {
        "colab": {
          "base_uri": "https://localhost:8080/"
        },
        "id": "z1XzrxMogoRE",
        "outputId": "c84fbe8f-2dfa-4ff8-e89e-28ec42dfa4da"
      },
      "execution_count": 79,
      "outputs": [
        {
          "output_type": "execute_result",
          "data": {
            "text/plain": [
              "tensor([[0.6675],\n",
              "        [0.6742],\n",
              "        [0.6810],\n",
              "        [0.6877],\n",
              "        [0.6944],\n",
              "        [0.7012],\n",
              "        [0.7079],\n",
              "        [0.7147],\n",
              "        [0.7214],\n",
              "        [0.7281],\n",
              "        [0.7349],\n",
              "        [0.7416],\n",
              "        [0.7483],\n",
              "        [0.7551],\n",
              "        [0.7618],\n",
              "        [0.7685],\n",
              "        [0.7753],\n",
              "        [0.7820],\n",
              "        [0.7887],\n",
              "        [0.7955]])"
            ]
          },
          "metadata": {},
          "execution_count": 79
        }
      ]
    },
    {
      "cell_type": "code",
      "source": [
        "# plotting model's predictions to visualize\n",
        "plot_predictions(predictions=y_predictions)"
      ],
      "metadata": {
        "colab": {
          "base_uri": "https://localhost:8080/",
          "height": 599
        },
        "id": "cx1hrhJ8hN-t",
        "outputId": "db5ee499-1de1-4e96-dc1d-3fae70d5829f"
      },
      "execution_count": 80,
      "outputs": [
        {
          "output_type": "display_data",
          "data": {
            "text/plain": [
              "<Figure size 1000x700 with 1 Axes>"
            ],
            "image/png": "[encoded data removed]"
          },
          "metadata": {}
        }
      ]
    },
    {
      "cell_type": "markdown",
      "source": [
        "## Training model\n",
        "\n",
        "The whole idea behing training, is for a model to adjust from some *unknown* (may be random) parameters, to some *known* parameters.\n",
        "\n",
        "In other words, from a `poor` representation to a better one.\n",
        "\n",
        "One war to measure how poor or how wrong the model's predictions are, is to use a `loss function`. In a high level, the goal is to adjust the parameters so that the loss function returns the minimum possible value (0 error)\n",
        "\n",
        "Things needed for the training\n",
        "\n",
        "* **Loss function**: A function to measure how wrong your model's predictions are to the ideal outputs, lower is better\n",
        "* **Optimizer**: Takes into account the loss of a model and adjust the model's parameters (in this case weight and bias) to improve the loss function\n",
        "* A training loop\n",
        "* A testing loop"
      ],
      "metadata": {
        "id": "wo9gJn7qlXWm"
      }
    },
    {
      "cell_type": "code",
      "source": [
        "model_0.state_dict()"
      ],
      "metadata": {
        "colab": {
          "base_uri": "https://localhost:8080/"
        },
        "id": "jvOzgOp7nlMz",
        "outputId": "02b2e890-0995-4798-c2f5-4b68d6f41852"
      },
      "execution_count": 81,
      "outputs": [
        {
          "output_type": "execute_result",
          "data": {
            "text/plain": [
              "OrderedDict([('weights', tensor([0.3367])), ('bias', tensor([0.1288]))])"
            ]
          },
          "metadata": {},
          "execution_count": 81
        }
      ]
    },
    {
      "cell_type": "code",
      "source": [
        "# Set up a loss function\n",
        "loss_fn = nn.L1Loss()\n",
        "\n",
        "\n",
        "# Setup an optimizer\n",
        "optimizer = torch.optim.SGD(\n",
        "    model_0.parameters(),\n",
        "    lr=0.001 # learning rate\n",
        ")"
      ],
      "metadata": {
        "id": "wNepI7tOnoPT"
      },
      "execution_count": 84,
      "outputs": []
    },
    {
      "cell_type": "markdown",
      "source": [
        "### Building a training loop\n",
        "\n",
        "Things we need in a training loop:\n",
        "0. Loop through the data\n",
        "1. Forward pass\n",
        "2. Calculate the loss\n",
        "3. Optimizer zero grad\n",
        "4. Loss backward\n",
        "5. Optimizer step"
      ],
      "metadata": {
        "id": "lhR4QEnwtT_0"
      }
    },
    {
      "cell_type": "code",
      "source": [
        "# an epoch is one loop through the data\n",
        "epochs = 1\n",
        "\n",
        "for epoch in range(epochs):\n",
        "  # set the model to training mode\n",
        "  model_0.train() # train mode sets all parameter to require gradients\n",
        "\n",
        "  # 1. Forward pass\n",
        "  y_pred = model_0(X_train)\n",
        "\n",
        "  # 2. Calculate the loss\n",
        "  loss = loss_fn(y_pred, y_train)\n",
        "\n",
        "  # 3. Optimizer zero grad\n",
        "  optimizer.zero_grad()\n",
        "\n",
        "  #4. Perform back propagation on the loss with respect to the model's parameters\n",
        "  loss.backward()\n",
        "\n",
        "  # 5. Step the optimizer (perform gradiend descent)\n",
        "  optimizer.step()\n",
        "\n",
        "\n",
        "  model_0.eval()  #  turns off gradiend tracking"
      ],
      "metadata": {
        "id": "CTSuZUO5u5_q"
      },
      "execution_count": 83,
      "outputs": []
    }
  ],
  "metadata": {
    "colab": {
      "collapsed_sections": [
        "pWlVOFio0g7d"
      ],
      "toc_visible": true,
      "provenance": [],
      "authorship_tag": "ABX9TyOqpYJ6ROT59qX2WYG3OxNX",
      "include_colab_link": true
    },
    "kernelspec": {
      "display_name": "Python 3",
      "name": "python3"
    },
    "language_info": {
      "name": "python"
    }
  },
  "nbformat": 4,
  "nbformat_minor": 0
}